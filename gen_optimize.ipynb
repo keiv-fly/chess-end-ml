{
 "cells": [
  {
   "cell_type": "code",
   "execution_count": 1,
   "metadata": {},
   "outputs": [],
   "source": [
    "import numpy as np\n",
    "import pandas as pd\n",
    "import datetime\n",
    "import chess\n",
    "import chess.syzygy\n",
    "\n",
    "from lib import generate_table\n",
    "from pathlib import Path\n",
    "import datetime\n",
    "import pandas\n",
    "import os\n"
   ]
  },
  {
   "cell_type": "code",
   "execution_count": 4,
   "metadata": {},
   "outputs": [
    {
     "name": "stdout",
     "output_type": "stream",
     "text": [
      "0  of  100000 , time:  22:31:20.458877\n",
      "8/8/8/8/8/8/8/8 w - - 0 1\n",
      "51190\n",
      " 2    23080\n",
      " 0    22906\n",
      "-2     5202\n",
      "-1        2\n",
      "Name: wdl, dtype: int64\n",
      "CPU times: user 12.4 s, sys: 35.9 ms, total: 12.5 s\n",
      "Wall time: 12.5 s\n"
     ]
    }
   ],
   "source": [
    "%%time\n",
    "df= generate_table(100000)\n"
   ]
  },
  {
   "cell_type": "code",
   "execution_count": 14,
   "metadata": {},
   "outputs": [
    {
     "name": "stdout",
     "output_type": "stream",
     "text": [
      "0  of  100000 , time:  22:42:23.531897\n",
      "8/8/8/8/8/8/8/8 w - - 0 1\n",
      "51184\n",
      " 2    23187\n",
      " 0    22870\n",
      "-2     5127\n",
      "Name: wdl, dtype: int64\n"
     ]
    }
   ],
   "source": [
    "n_iter = 100000\n",
    "board_start = chess.Board(\"K1k5/P7/8/8/8/8/8/8 w - - 0 0\")\n",
    "board_start0 = chess.Board(\"8/8/8/8/8/8/8/8 w - - 0 0\")\n",
    "\n",
    "l_boards = []\n",
    "l_wdl = []\n",
    "pieces = [\"K\", \"R\", \"P\", \"k\", \"r\", \"p\"]\n",
    "pc_num = len(pieces)\n",
    "pieces_types = [6, 4, 1, 6, 4, 1]\n",
    "pieces_color = [True, True, True, False, False, False]\n",
    "pieces_chess = [chess.Piece.from_symbol(s) for s in pieces]\n",
    "i_min = [0, 0, 1, 0, 0, 1]\n",
    "i_max = [8, 8, 7, 8, 8, 7]\n",
    "j_min = [0, 0, 0, 0, 0, 0]\n",
    "j_max = [8, 8, 8, 8, 8, 8]\n",
    "\n",
    "l_boards = []\n",
    "l_wdl = []\n",
    "board = board_start0.copy()\n",
    "i_counter = 0\n",
    "\n",
    "with chess.syzygy.open_tablebase(r\"syzygy\") as tablebases:\n",
    "    for ii in range(n_iter):\n",
    "        if i_counter % 100000 == 0:\n",
    "            print(i_counter, \" of \", n_iter, \", time: \", datetime.datetime.now().strftime(\"%H:%M:%S.%f\"))\n",
    "            print(board.fen())\n",
    "        board = board_start0.copy()\n",
    "        i_board = []\n",
    "        i_board_i_j = []\n",
    "        turn = True\n",
    "        board.turn = turn\n",
    "        i_board.append(turn)\n",
    "        i_piece = 0\n",
    "        for i_piece in range(6):\n",
    "            i = np.random.randint(i_min[i_piece], i_max[i_piece])\n",
    "            j = np.random.randint(j_min[i_piece], j_max[i_piece])\n",
    "            board.set_piece_at(i * 8 + j, pieces_chess[i_piece])\n",
    "            i_board.append(i * 8 + j)\n",
    "            i_board_i_j.append(i)\n",
    "            i_board_i_j.append(j)\n",
    "        if len(i_board) != len(set(i_board)):\n",
    "            i_counter = i_counter + 1\n",
    "            continue\n",
    "        if board.is_valid():\n",
    "            l_boards.append(i_board)\n",
    "            l_wdl.append(tablebases.probe_wdl(board))  # *(turn*2-1))\n",
    "        i_counter = i_counter + 1\n",
    "\n",
    "df1 = pd.DataFrame(l_boards)\n",
    "df1.columns = [\"move\", \"K\", \"R\", \"P\", \"k\", \"r\", \"p\"]\n",
    "df1[\"wdl\"] = l_wdl\n",
    "df2 = df1.drop_duplicates()\n",
    "print(len(df2.index))\n",
    "print(df2.wdl.value_counts())\n",
    "df2 = df2.reset_index(drop=True)\n",
    " \n"
   ]
  },
  {
   "cell_type": "code",
   "execution_count": 5,
   "metadata": {},
   "outputs": [],
   "source": [
    "%load_ext line_profiler\n"
   ]
  },
  {
   "cell_type": "code",
   "execution_count": 67,
   "metadata": {},
   "outputs": [
    {
     "name": "stdout",
     "output_type": "stream",
     "text": [
      "0  of  10000 , time:  14:31:49.873185\n",
      "8/8/8/8/8/8/8/8 w - - 0 1\n",
      "5173\n",
      " 2    2334\n",
      " 0    2302\n",
      "-2     537\n",
      "Name: wdl, dtype: int64\n"
     ]
    }
   ],
   "source": [
    "%lprun -f generate_table generate_table(10000)\n"
   ]
  },
  {
   "cell_type": "code",
   "execution_count": 18,
   "metadata": {},
   "outputs": [],
   "source": [
    "tablebases=chess.syzygy.open_tablebase(r\"syzygy\")"
   ]
  },
  {
   "cell_type": "code",
   "execution_count": 16,
   "metadata": {},
   "outputs": [
    {
     "name": "stdout",
     "output_type": "stream",
     "text": [
      "100000  of  100000 , time:  22:44:03.429315\n",
      "8/8/8/2K5/1R4p1/4P3/8/k2r4 w - - 0 1\n"
     ]
    },
    {
     "data": {
      "text/plain": [
       "True"
      ]
     },
     "execution_count": 16,
     "metadata": {},
     "output_type": "execute_result"
    }
   ],
   "source": [
    "if i_counter % 100000 == 0:\n",
    "    print(i_counter, \" of \", n_iter, \", time: \", datetime.datetime.now().strftime(\"%H:%M:%S.%f\"))\n",
    "    print(board.fen())\n",
    "board = board_start0.copy()\n",
    "i_board = []\n",
    "i_board_i_j = []\n",
    "turn = True\n",
    "board.turn = turn\n",
    "i_board.append(turn)\n",
    "i_piece = 0\n",
    "for i_piece in range(6):\n",
    "    i = np.random.randint(i_min[i_piece], i_max[i_piece])\n",
    "    j = np.random.randint(j_min[i_piece], j_max[i_piece])\n",
    "    board.set_piece_at(i * 8 + j, pieces_chess[i_piece])\n",
    "    i_board.append(i * 8 + j)\n",
    "    i_board_i_j.append(i)\n",
    "    i_board_i_j.append(j)\n",
    "board.is_valid()"
   ]
  },
  {
   "cell_type": "code",
   "execution_count": 33,
   "metadata": {},
   "outputs": [],
   "source": [
    "%lprun -f tablebases.probe_wdl tablebases.probe_wdl(board)"
   ]
  },
  {
   "cell_type": "code",
   "execution_count": 41,
   "metadata": {},
   "outputs": [],
   "source": [
    "%lprun -f tablebases.probe_ab tablebases.probe_ab(board,-2,2)"
   ]
  },
  {
   "cell_type": "code",
   "execution_count": 21,
   "metadata": {},
   "outputs": [],
   "source": [
    "%lprun -f tablebases.probe_wdl_table tablebases.probe_wdl_table(board)"
   ]
  },
  {
   "cell_type": "code",
   "execution_count": 23,
   "metadata": {},
   "outputs": [],
   "source": [
    "key = chess.syzygy.calc_key(board)"
   ]
  },
  {
   "cell_type": "code",
   "execution_count": 24,
   "metadata": {},
   "outputs": [],
   "source": [
    "table = tablebases.wdl[key]"
   ]
  },
  {
   "cell_type": "code",
   "execution_count": 25,
   "metadata": {},
   "outputs": [],
   "source": [
    "tablebases._bump_lru(table)"
   ]
  },
  {
   "cell_type": "code",
   "execution_count": 26,
   "metadata": {},
   "outputs": [],
   "source": [
    "%lprun -f table.probe_wdl_table table.probe_wdl_table(board)"
   ]
  },
  {
   "cell_type": "code",
   "execution_count": 32,
   "metadata": {},
   "outputs": [],
   "source": [
    "%lprun -f table._probe_wdl_table table._probe_wdl_table(board)"
   ]
  },
  {
   "cell_type": "code",
   "execution_count": 31,
   "metadata": {},
   "outputs": [],
   "source": [
    "%lprun -f chess.syzygy.calc_key chess.syzygy.calc_key(board)"
   ]
  },
  {
   "cell_type": "code",
   "execution_count": 29,
   "metadata": {},
   "outputs": [
    {
     "data": {
      "text/plain": [
       "'KRPvKRP'"
      ]
     },
     "execution_count": 29,
     "metadata": {},
     "output_type": "execute_result"
    }
   ],
   "source": [
    "key"
   ]
  },
  {
   "cell_type": "code",
   "execution_count": 39,
   "metadata": {},
   "outputs": [
    {
     "name": "stdout",
     "output_type": "stream",
     "text": [
      "CPU times: user 4 µs, sys: 0 ns, total: 4 µs\n",
      "Wall time: 4.53 µs\n"
     ]
    }
   ],
   "source": [
    "%%time\n",
    "t=board.occupied_co[not board.turn]"
   ]
  },
  {
   "cell_type": "code",
   "execution_count": 40,
   "metadata": {},
   "outputs": [
    {
     "name": "stdout",
     "output_type": "stream",
     "text": [
      "CPU times: user 6 µs, sys: 0 ns, total: 6 µs\n",
      "Wall time: 8.58 µs\n"
     ]
    },
    {
     "data": {
      "text/plain": [
       "<generator object Board.generate_legal_moves at 0x7f4003945c78>"
      ]
     },
     "execution_count": 40,
     "metadata": {},
     "output_type": "execute_result"
    }
   ],
   "source": [
    "%%time\n",
    "board.generate_legal_moves(to_mask=t)"
   ]
  },
  {
   "cell_type": "code",
   "execution_count": 46,
   "metadata": {},
   "outputs": [
    {
     "name": "stdout",
     "output_type": "stream",
     "text": [
      "CPU times: user 35 µs, sys: 0 ns, total: 35 µs\n",
      "Wall time: 37.9 µs\n"
     ]
    }
   ],
   "source": [
    "%%time\n",
    "run(t)"
   ]
  },
  {
   "cell_type": "code",
   "execution_count": 43,
   "metadata": {},
   "outputs": [],
   "source": [
    "def run(t):\n",
    "    list(board.generate_legal_moves(to_mask=t))"
   ]
  },
  {
   "cell_type": "code",
   "execution_count": 50,
   "metadata": {},
   "outputs": [],
   "source": [
    "%lprun -f board.generate_legal_moves board.generate_legal_moves(to_mask=t)"
   ]
  },
  {
   "cell_type": "code",
   "execution_count": 51,
   "metadata": {},
   "outputs": [],
   "source": [
    "%lprun -f board.generate_legal_moves run(t)"
   ]
  },
  {
   "cell_type": "code",
   "execution_count": 42,
   "metadata": {},
   "outputs": [
    {
     "data": {
      "text/plain": [
       "<generator object Board.generate_legal_moves at 0x7f4003945e58>"
      ]
     },
     "execution_count": 42,
     "metadata": {},
     "output_type": "execute_result"
    }
   ],
   "source": [
    "board.generate_legal_moves(to_mask=t)"
   ]
  },
  {
   "cell_type": "code",
   "execution_count": 52,
   "metadata": {},
   "outputs": [],
   "source": [
    "%lprun -f board.generate_pseudo_legal_moves list(board.generate_pseudo_legal_moves(chess.BB_ALL, t))"
   ]
  },
  {
   "cell_type": "code",
   "execution_count": 57,
   "metadata": {},
   "outputs": [],
   "source": [
    "from_mask=chess.BB_ALL\n",
    "to_mask=t\n",
    "our_pieces = board.occupied_co[board.turn]\n",
    "non_pawns = our_pieces & ~board.pawns & from_mask\n",
    "t1=list(chess.scan_reversed(non_pawns))[0]"
   ]
  },
  {
   "cell_type": "code",
   "execution_count": 58,
   "metadata": {},
   "outputs": [],
   "source": [
    "%lprun -f board.attacks_mask board.attacks_mask(t1)"
   ]
  },
  {
   "cell_type": "code",
   "execution_count": 59,
   "metadata": {},
   "outputs": [
    {
     "data": {
      "text/plain": [
       "40"
      ]
     },
     "execution_count": 59,
     "metadata": {},
     "output_type": "execute_result"
    }
   ],
   "source": [
    "t1"
   ]
  },
  {
   "cell_type": "code",
   "execution_count": 60,
   "metadata": {},
   "outputs": [
    {
     "name": "stdout",
     "output_type": "stream",
     "text": [
      "CPU times: user 9 µs, sys: 0 ns, total: 9 µs\n",
      "Wall time: 10.5 µs\n"
     ]
    },
    {
     "data": {
      "text/plain": [
       "72618349279904000"
      ]
     },
     "execution_count": 60,
     "metadata": {},
     "output_type": "execute_result"
    }
   ],
   "source": [
    "%%time\n",
    "board.attacks_mask(t1)"
   ]
  },
  {
   "cell_type": "code",
   "execution_count": 61,
   "metadata": {},
   "outputs": [],
   "source": [
    "SQUARES = [\n",
    "    A1, B1, C1, D1, E1, F1, G1, H1,\n",
    "    A2, B2, C2, D2, E2, F2, G2, H2,\n",
    "    A3, B3, C3, D3, E3, F3, G3, H3,\n",
    "    A4, B4, C4, D4, E4, F4, G4, H4,\n",
    "    A5, B5, C5, D5, E5, F5, G5, H5,\n",
    "    A6, B6, C6, D6, E6, F6, G6, H6,\n",
    "    A7, B7, C7, D7, E7, F7, G7, H7,\n",
    "    A8, B8, C8, D8, E8, F8, G8, H8,\n",
    "] = range(64)"
   ]
  },
  {
   "cell_type": "code",
   "execution_count": 64,
   "metadata": {},
   "outputs": [
    {
     "data": {
      "text/plain": [
       "range(0, 64)"
      ]
     },
     "execution_count": 64,
     "metadata": {},
     "output_type": "execute_result"
    }
   ],
   "source": [
    "SQUARES"
   ]
  },
  {
   "cell_type": "code",
   "execution_count": 65,
   "metadata": {},
   "outputs": [],
   "source": [
    "BB_SQUARES = [\n",
    "    BB_A1, BB_B1, BB_C1, BB_D1, BB_E1, BB_F1, BB_G1, BB_H1,\n",
    "    BB_A2, BB_B2, BB_C2, BB_D2, BB_E2, BB_F2, BB_G2, BB_H2,\n",
    "    BB_A3, BB_B3, BB_C3, BB_D3, BB_E3, BB_F3, BB_G3, BB_H3,\n",
    "    BB_A4, BB_B4, BB_C4, BB_D4, BB_E4, BB_F4, BB_G4, BB_H4,\n",
    "    BB_A5, BB_B5, BB_C5, BB_D5, BB_E5, BB_F5, BB_G5, BB_H5,\n",
    "    BB_A6, BB_B6, BB_C6, BB_D6, BB_E6, BB_F6, BB_G6, BB_H6,\n",
    "    BB_A7, BB_B7, BB_C7, BB_D7, BB_E7, BB_F7, BB_G7, BB_H7,\n",
    "    BB_A8, BB_B8, BB_C8, BB_D8, BB_E8, BB_F8, BB_G8, BB_H8\n",
    "] = [1 << sq for sq in SQUARES]"
   ]
  },
  {
   "cell_type": "code",
   "execution_count": 66,
   "metadata": {},
   "outputs": [
    {
     "data": {
      "text/plain": [
       "[1,\n",
       " 2,\n",
       " 4,\n",
       " 8,\n",
       " 16,\n",
       " 32,\n",
       " 64,\n",
       " 128,\n",
       " 256,\n",
       " 512,\n",
       " 1024,\n",
       " 2048,\n",
       " 4096,\n",
       " 8192,\n",
       " 16384,\n",
       " 32768,\n",
       " 65536,\n",
       " 131072,\n",
       " 262144,\n",
       " 524288,\n",
       " 1048576,\n",
       " 2097152,\n",
       " 4194304,\n",
       " 8388608,\n",
       " 16777216,\n",
       " 33554432,\n",
       " 67108864,\n",
       " 134217728,\n",
       " 268435456,\n",
       " 536870912,\n",
       " 1073741824,\n",
       " 2147483648,\n",
       " 4294967296,\n",
       " 8589934592,\n",
       " 17179869184,\n",
       " 34359738368,\n",
       " 68719476736,\n",
       " 137438953472,\n",
       " 274877906944,\n",
       " 549755813888,\n",
       " 1099511627776,\n",
       " 2199023255552,\n",
       " 4398046511104,\n",
       " 8796093022208,\n",
       " 17592186044416,\n",
       " 35184372088832,\n",
       " 70368744177664,\n",
       " 140737488355328,\n",
       " 281474976710656,\n",
       " 562949953421312,\n",
       " 1125899906842624,\n",
       " 2251799813685248,\n",
       " 4503599627370496,\n",
       " 9007199254740992,\n",
       " 18014398509481984,\n",
       " 36028797018963968,\n",
       " 72057594037927936,\n",
       " 144115188075855872,\n",
       " 288230376151711744,\n",
       " 576460752303423488,\n",
       " 1152921504606846976,\n",
       " 2305843009213693952,\n",
       " 4611686018427387904,\n",
       " 9223372036854775808]"
      ]
     },
     "execution_count": 66,
     "metadata": {},
     "output_type": "execute_result"
    }
   ],
   "source": [
    "BB_SQUARES"
   ]
  },
  {
   "cell_type": "code",
   "execution_count": null,
   "metadata": {},
   "outputs": [],
   "source": []
  }
 ],
 "metadata": {
  "file_extension": ".py",
  "jupytext": {
   "formats": "ipynb,py:percent"
  },
  "kernelspec": {
   "display_name": "Python 3",
   "language": "python",
   "name": "python3"
  },
  "language_info": {
   "codemirror_mode": {
    "name": "ipython",
    "version": 3
   },
   "file_extension": ".py",
   "mimetype": "text/x-python",
   "name": "python",
   "nbconvert_exporter": "python",
   "pygments_lexer": "ipython3",
   "version": "3.7.3"
  },
  "mimetype": "text/x-python",
  "name": "python",
  "npconvert_exporter": "python",
  "pygments_lexer": "ipython3",
  "version": 3
 },
 "nbformat": 4,
 "nbformat_minor": 2
}
